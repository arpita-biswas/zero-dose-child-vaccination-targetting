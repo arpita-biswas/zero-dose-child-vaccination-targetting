{
 "cells": [
  {
   "cell_type": "code",
   "execution_count": 1,
   "metadata": {},
   "outputs": [],
   "source": [
    "import pandas as pd\n",
    "import numpy as np\n",
    "\n",
    "import matplotlib.pyplot as plt\n",
    "import seaborn as sns\n",
    "pal = sns.color_palette()"
   ]
  },
  {
   "cell_type": "code",
   "execution_count": 2,
   "metadata": {},
   "outputs": [],
   "source": [
    "sparse_predictors = [\"age_group\", \"male\", \"anc_cat\", \"facdelivery\", \"hh_urban\", \"v024\"] #administrative data\n",
    "contextual_predictors = [\"nightlights_composite\", \"un_population_cat\", \"travel_times_2015\"] #custer level data from censor\n",
    "additional_predictors = [\"birth_order\", \"mum_educlow\", \"mum_educhigher\",\n",
    "                        \"npregnancies\", \"firstpreg\", \"hh_5plus\", \"hh_wealth\"]# survey data\n",
    "                       \n",
    "\n",
    "extra_features = ['sdist', 'regionname', 'clusterid', 'all_vac', 'ia2015fic', 'IMI_target']\n",
    "\n",
    "contextual_datasets = ['IA2020', 'IA2015','ML2018','NG2018']"
   ]
  },
  {
   "cell_type": "code",
   "execution_count": 4,
   "metadata": {},
   "outputs": [],
   "source": [
    "#Utility functions\n",
    "categorical_predictors = ['age_group', 'anc_cat', 'un_population_cat', 'nightlights_composite', 'v024', 'clusterid', 'hh_wealth']\n",
    "extra_features = ['sdist', 'regionname', 'clusterid', 'all_vac', 'ia2015fic', 'IMI_target']\n",
    "\n",
    "#Read file from CSV and return a dataframe\n",
    "def read_file(country, verbose = False):\n",
    "    df = (pd.read_csv('../data/clean_data/' + country + \".csv\"))\n",
    "    for feature in categorical_predictors:\n",
    "        if feature in df.columns:\n",
    "            df[feature] = df[feature].astype('category')\n",
    "    if verbose:\n",
    "        print('Read complete: Clean data for '+country)\n",
    "        print(df.dtypes)\n",
    "    return df\n",
    "\n",
    "def get_clean_dataset(country, verbose = False):\n",
    "    df = read_file(country, verbose)        \n",
    "    df = df.dropna()\n",
    "    if country =='IA2020':\n",
    "        df = df.drop(['sdist', 'regionname', 'clusterid', 'all_vac'], axis=1)\n",
    "    elif country == 'IA2015':        \n",
    "        df = df.drop(extra_features, axis=1)\n",
    "    else:\n",
    "        df = df.drop(['regionname', 'clusterid', 'all_vac'], axis=1)\n",
    "    if(verbose):\n",
    "        print(\"Missing values and extra columns removed.\")\n",
    "    return df\n"
   ]
  },
  {
   "cell_type": "code",
   "execution_count": 7,
   "metadata": {},
   "outputs": [
    {
     "name": "stdout",
     "output_type": "stream",
     "text": [
      "IA2020\n",
      "Number of data points: 40290\n",
      "Number of ZD: 0.037081161578555476\n",
      "Number of regions: 30\n",
      "\n",
      "IA2015\n",
      "Number of data points: 45977\n",
      "Number of ZD: 0.06672901668225417\n",
      "Number of regions: 30\n",
      "\n",
      "IA2006\n",
      "Number of data points: 8978\n",
      "Number of ZD: 0.0598128759189129\n",
      "Number of regions: 26\n",
      "\n",
      "ML2018\n",
      "Number of data points: 1743\n",
      "Number of ZD: 0.15834767641996558\n",
      "Number of regions: 8\n",
      "\n",
      "ML2006\n",
      "Number of data points: 2440\n",
      "Number of ZD: 0.12786885245901639\n",
      "Number of regions: 8\n",
      "\n",
      "NG2018\n",
      "Number of data points: 2292\n",
      "Number of ZD: 0.16099476439790575\n",
      "Number of regions: 37\n",
      "\n",
      "NG2008\n",
      "Number of data points: 4689\n",
      "Number of ZD: 0.2945190872254212\n",
      "Number of regions: 37\n",
      "\n"
     ]
    }
   ],
   "source": [
    "#Summary statistics\n",
    "countries = ['IA2020', 'IA2015', 'IA2006', 'ML2018', 'ML2006', 'NG2018', 'NG2008']\n",
    "for country in countries:\n",
    "    print(country)\n",
    "    # Percentage zero-dose children\n",
    "    output = pd.DataFrame()\n",
    "\n",
    "    write_path = \"../results/summary/summary_\"+country+\".txt\"\n",
    "    f= open(write_path,\"w+\")\n",
    "\n",
    "    df = get_clean_dataset(country)\n",
    "    npoints = df.shape[0]\n",
    "    print(\"Number of data points: \"+str(npoints))\n",
    "    frac = sum(df['any_vac']==0)/npoints\n",
    "    print(\"Number of ZD: \"+str(frac))\n",
    "    nregions = (df['v024'].unique()).shape[0]\n",
    "    print(\"Number of regions: \"+str(nregions)+'\\n')\n",
    "    df = df.drop('v024', axis=1)\n",
    "    df['zd'] = 1-df['any_vac']\n",
    "\n",
    "    #stats for continuous variables\n",
    "    describe =  df.describe()\n",
    "    n = df.shape[0]\n",
    "    output['cols'] = describe.columns\n",
    "    output['mean_cols'] = describe.values[1]\n",
    "    output['std_cols'] = describe.values[2]\n",
    "    with open(write_path, 'a') as f:\n",
    "        dfAsString = output.to_string(header=True, index=False)\n",
    "        f.write(dfAsString)\n",
    "    f = open(write_path, 'a')\n",
    "    f.write('\\n')\n",
    "\n",
    "    #stats for categorical variables\n",
    "    for feature in categorical_predictors:\n",
    "        if feature in df.columns:\n",
    "            freq_df = pd.crosstab(index = df[feature], columns = 'freq')\n",
    "            freq_df['freq'] = freq_df['freq']/n\n",
    "            with open(write_path, 'a') as f:\n",
    "                dfAsString = freq_df.to_string(header=True, index=True)\n",
    "                f.write(dfAsString)    "
   ]
  },
  {
   "cell_type": "markdown",
   "metadata": {},
   "source": [
    "Run the code below, only if you need the summary results in tabular form! "
   ]
  },
  {
   "cell_type": "code",
   "execution_count": 23,
   "metadata": {},
   "outputs": [],
   "source": [
    "#Tabular form of Summary [No need to run this]\n",
    "#Summary statistics (for creating tables for numeric features only)\n",
    "countries_recent = ['IA2020', 'IA2015', 'ML2018', 'NG2018']\n",
    "output = pd.DataFrame()\n",
    "for country in countries_recent:\n",
    "\n",
    "    df = get_clean_dataset(country)\n",
    "    df = df.drop('v024', axis=1)\n",
    "    df['zd'] = 1-df['any_vac']\n",
    "    \n",
    "    #stats for continuous variables\n",
    "    describe =  df.describe()\n",
    "    n = df.shape[0]\n",
    "    output['cols'] = describe.columns\n",
    "    output[country+'_mean_cols'] = describe.values[1]\n",
    "    output[country+'_std_cols'] = describe.values[2]\n",
    "output.to_csv(\"../results/summary/summary_recent_numeric.csv\")\n",
    "\n",
    "#Summary statistics\n",
    "countries_old = ['IA2006', 'ML2006', 'NG2008']\n",
    "output = pd.DataFrame()\n",
    "for country in countries_old:\n",
    "\n",
    "    df = get_clean_dataset(country)\n",
    "    df = df.drop('v024', axis=1)\n",
    "    df['zd'] = 1-df['any_vac']\n",
    "    \n",
    "    #stats for continuous variables\n",
    "    describe =  df.describe()\n",
    "    n = df.shape[0]\n",
    "    output['cols'] = describe.columns\n",
    "    output[country+'_mean_cols'] = describe.values[1]\n",
    "    output[country+'_std_cols'] = describe.values[2]\n",
    "output.to_csv(\"../results/summary/summary_old_numeric.csv\")\n"
   ]
  },
  {
   "cell_type": "code",
   "execution_count": 24,
   "metadata": {},
   "outputs": [],
   "source": [
    "#Tabular form of Summary [No need to run this]\n",
    "#Summary statistics (for creating tables for categorical features only)\n",
    "countries_recent = ['IA2020', 'IA2015', 'ML2018', 'NG2018']\n",
    "for feature in categorical_predictors:\n",
    "    output = pd.DataFrame()\n",
    "    for country in countries_recent:\n",
    "    # Percentage zero-dose children\n",
    "\n",
    "        df = get_clean_dataset(country)\n",
    "        df = df.drop('v024', axis=1)\n",
    "        n = df.shape[0]\n",
    "        if feature in df.columns:\n",
    "            #print(feature)\n",
    "            freq_df = pd.crosstab(index = df[feature], columns = 'freq')\n",
    "            #output['categories'] = freq_df[0]\n",
    "            if 'freq' not in output.columns:\n",
    "                output = freq_df\n",
    "            output[country+'freq'] = freq_df['freq']/n\n",
    "    output.to_csv('../results/summary/summary_recent_'+feature+'.csv')\n",
    "\n",
    "countries_old = ['IA2006', 'ML2006', 'NG2008']\n",
    "for feature in categorical_predictors:\n",
    "    output = pd.DataFrame()\n",
    "    for country in countries_old:\n",
    "    # Percentage zero-dose children\n",
    "\n",
    "        df = get_clean_dataset(country)\n",
    "        df = df.drop('v024', axis=1)\n",
    "        n = df.shape[0]\n",
    "        if feature in df.columns:\n",
    "            freq_df = pd.crosstab(index = df[feature], columns = 'freq')\n",
    "            #output['categories'] = freq_df[0]\n",
    "            if 'freq' not in output.columns:\n",
    "                output = freq_df\n",
    "            output[country+'freq'] = freq_df['freq']/n\n",
    "    output.to_csv('../results/summary/summary_old_'+feature+'.csv')"
   ]
  },
  {
   "cell_type": "code",
   "execution_count": 9,
   "metadata": {},
   "outputs": [
    {
     "name": "stderr",
     "output_type": "stream",
     "text": [
      "c:\\Users\\Arpita\\AppData\\Local\\Programs\\Python\\Python39\\lib\\site-packages\\sweetviz\\dataframe_report.py:74: FutureWarning: iteritems is deprecated and will be removed in a future version. Use .items instead.\n",
      "  all_source_names = [cur_name for cur_name, cur_series in source_df.iteritems()]\n",
      "c:\\Users\\Arpita\\AppData\\Local\\Programs\\Python\\Python39\\lib\\site-packages\\sweetviz\\dataframe_report.py:109: FutureWarning: iteritems is deprecated and will be removed in a future version. Use .items instead.\n",
      "  filtered_series_names_in_source = [cur_name for cur_name, cur_series in source_df.iteritems()\n"
     ]
    },
    {
     "data": {
      "application/vnd.jupyter.widget-view+json": {
       "model_id": "bb0a72c6167a4ecfb84014424f8890ce",
       "version_major": 2,
       "version_minor": 0
      },
      "text/plain": [
       "                                             |          | [  0%]   00:00 -> (? left)"
      ]
     },
     "metadata": {},
     "output_type": "display_data"
    },
    {
     "name": "stderr",
     "output_type": "stream",
     "text": [
      "c:\\Users\\Arpita\\AppData\\Local\\Programs\\Python\\Python39\\lib\\site-packages\\sweetviz\\series_analyzer_cat.py:28: FutureWarning: iteritems is deprecated and will be removed in a future version. Use .items instead.\n",
      "  for item in category_counts.iteritems():\n",
      "c:\\Users\\Arpita\\AppData\\Local\\Programs\\Python\\Python39\\lib\\site-packages\\sweetviz\\series_analyzer_cat.py:28: FutureWarning: iteritems is deprecated and will be removed in a future version. Use .items instead.\n",
      "  for item in category_counts.iteritems():\n",
      "c:\\Users\\Arpita\\AppData\\Local\\Programs\\Python\\Python39\\lib\\site-packages\\sweetviz\\series_analyzer_cat.py:28: FutureWarning: iteritems is deprecated and will be removed in a future version. Use .items instead.\n",
      "  for item in category_counts.iteritems():\n",
      "c:\\Users\\Arpita\\AppData\\Local\\Programs\\Python\\Python39\\lib\\site-packages\\sweetviz\\series_analyzer_cat.py:28: FutureWarning: iteritems is deprecated and will be removed in a future version. Use .items instead.\n",
      "  for item in category_counts.iteritems():\n",
      "c:\\Users\\Arpita\\AppData\\Local\\Programs\\Python\\Python39\\lib\\site-packages\\sweetviz\\series_analyzer_cat.py:28: FutureWarning: iteritems is deprecated and will be removed in a future version. Use .items instead.\n",
      "  for item in category_counts.iteritems():\n",
      "c:\\Users\\Arpita\\AppData\\Local\\Programs\\Python\\Python39\\lib\\site-packages\\sweetviz\\series_analyzer_cat.py:28: FutureWarning: iteritems is deprecated and will be removed in a future version. Use .items instead.\n",
      "  for item in category_counts.iteritems():\n",
      "c:\\Users\\Arpita\\AppData\\Local\\Programs\\Python\\Python39\\lib\\site-packages\\sweetviz\\series_analyzer_cat.py:28: FutureWarning: iteritems is deprecated and will be removed in a future version. Use .items instead.\n",
      "  for item in category_counts.iteritems():\n",
      "c:\\Users\\Arpita\\AppData\\Local\\Programs\\Python\\Python39\\lib\\site-packages\\sweetviz\\series_analyzer_numeric.py:25: FutureWarning: The 'mad' method is deprecated and will be removed in a future version. To compute the same result, you may do `(df - df.mean()).abs().mean()`.\n",
      "  stats[\"mad\"] = series.mad()\n",
      "c:\\Users\\Arpita\\AppData\\Local\\Programs\\Python\\Python39\\lib\\site-packages\\sweetviz\\series_analyzer_cat.py:28: FutureWarning: iteritems is deprecated and will be removed in a future version. Use .items instead.\n",
      "  for item in category_counts.iteritems():\n",
      "c:\\Users\\Arpita\\AppData\\Local\\Programs\\Python\\Python39\\lib\\site-packages\\sweetviz\\series_analyzer_cat.py:28: FutureWarning: iteritems is deprecated and will be removed in a future version. Use .items instead.\n",
      "  for item in category_counts.iteritems():\n",
      "c:\\Users\\Arpita\\AppData\\Local\\Programs\\Python\\Python39\\lib\\site-packages\\sweetviz\\series_analyzer_cat.py:28: FutureWarning: iteritems is deprecated and will be removed in a future version. Use .items instead.\n",
      "  for item in category_counts.iteritems():\n",
      "c:\\Users\\Arpita\\AppData\\Local\\Programs\\Python\\Python39\\lib\\site-packages\\sweetviz\\series_analyzer_cat.py:28: FutureWarning: iteritems is deprecated and will be removed in a future version. Use .items instead.\n",
      "  for item in category_counts.iteritems():\n",
      "c:\\Users\\Arpita\\AppData\\Local\\Programs\\Python\\Python39\\lib\\site-packages\\sweetviz\\series_analyzer_cat.py:28: FutureWarning: iteritems is deprecated and will be removed in a future version. Use .items instead.\n",
      "  for item in category_counts.iteritems():\n",
      "c:\\Users\\Arpita\\AppData\\Local\\Programs\\Python\\Python39\\lib\\site-packages\\sweetviz\\series_analyzer_cat.py:28: FutureWarning: iteritems is deprecated and will be removed in a future version. Use .items instead.\n",
      "  for item in category_counts.iteritems():\n",
      "c:\\Users\\Arpita\\AppData\\Local\\Programs\\Python\\Python39\\lib\\site-packages\\sweetviz\\series_analyzer_cat.py:28: FutureWarning: iteritems is deprecated and will be removed in a future version. Use .items instead.\n",
      "  for item in category_counts.iteritems():\n",
      "c:\\Users\\Arpita\\AppData\\Local\\Programs\\Python\\Python39\\lib\\site-packages\\sweetviz\\series_analyzer_cat.py:28: FutureWarning: iteritems is deprecated and will be removed in a future version. Use .items instead.\n",
      "  for item in category_counts.iteritems():\n",
      "c:\\Users\\Arpita\\AppData\\Local\\Programs\\Python\\Python39\\lib\\site-packages\\sweetviz\\series_analyzer_numeric.py:25: FutureWarning: The 'mad' method is deprecated and will be removed in a future version. To compute the same result, you may do `(df - df.mean()).abs().mean()`.\n",
      "  stats[\"mad\"] = series.mad()\n"
     ]
    },
    {
     "name": "stdout",
     "output_type": "stream",
     "text": [
      "Report ../results/summary/summary_IA2020.html was generated.\n"
     ]
    },
    {
     "name": "stderr",
     "output_type": "stream",
     "text": [
      "c:\\Users\\Arpita\\AppData\\Local\\Programs\\Python\\Python39\\lib\\site-packages\\sweetviz\\dataframe_report.py:74: FutureWarning: iteritems is deprecated and will be removed in a future version. Use .items instead.\n",
      "  all_source_names = [cur_name for cur_name, cur_series in source_df.iteritems()]\n",
      "c:\\Users\\Arpita\\AppData\\Local\\Programs\\Python\\Python39\\lib\\site-packages\\sweetviz\\dataframe_report.py:109: FutureWarning: iteritems is deprecated and will be removed in a future version. Use .items instead.\n",
      "  filtered_series_names_in_source = [cur_name for cur_name, cur_series in source_df.iteritems()\n"
     ]
    },
    {
     "data": {
      "application/vnd.jupyter.widget-view+json": {
       "model_id": "3e54450ce366482fbabf0b90c1f40f53",
       "version_major": 2,
       "version_minor": 0
      },
      "text/plain": [
       "                                             |          | [  0%]   00:00 -> (? left)"
      ]
     },
     "metadata": {},
     "output_type": "display_data"
    },
    {
     "name": "stderr",
     "output_type": "stream",
     "text": [
      "c:\\Users\\Arpita\\AppData\\Local\\Programs\\Python\\Python39\\lib\\site-packages\\sweetviz\\series_analyzer_cat.py:28: FutureWarning: iteritems is deprecated and will be removed in a future version. Use .items instead.\n",
      "  for item in category_counts.iteritems():\n",
      "c:\\Users\\Arpita\\AppData\\Local\\Programs\\Python\\Python39\\lib\\site-packages\\sweetviz\\series_analyzer_cat.py:28: FutureWarning: iteritems is deprecated and will be removed in a future version. Use .items instead.\n",
      "  for item in category_counts.iteritems():\n",
      "c:\\Users\\Arpita\\AppData\\Local\\Programs\\Python\\Python39\\lib\\site-packages\\sweetviz\\series_analyzer_cat.py:28: FutureWarning: iteritems is deprecated and will be removed in a future version. Use .items instead.\n",
      "  for item in category_counts.iteritems():\n",
      "c:\\Users\\Arpita\\AppData\\Local\\Programs\\Python\\Python39\\lib\\site-packages\\sweetviz\\series_analyzer_cat.py:28: FutureWarning: iteritems is deprecated and will be removed in a future version. Use .items instead.\n",
      "  for item in category_counts.iteritems():\n",
      "c:\\Users\\Arpita\\AppData\\Local\\Programs\\Python\\Python39\\lib\\site-packages\\sweetviz\\series_analyzer_cat.py:28: FutureWarning: iteritems is deprecated and will be removed in a future version. Use .items instead.\n",
      "  for item in category_counts.iteritems():\n",
      "c:\\Users\\Arpita\\AppData\\Local\\Programs\\Python\\Python39\\lib\\site-packages\\sweetviz\\series_analyzer_cat.py:28: FutureWarning: iteritems is deprecated and will be removed in a future version. Use .items instead.\n",
      "  for item in category_counts.iteritems():\n",
      "c:\\Users\\Arpita\\AppData\\Local\\Programs\\Python\\Python39\\lib\\site-packages\\sweetviz\\series_analyzer_cat.py:28: FutureWarning: iteritems is deprecated and will be removed in a future version. Use .items instead.\n",
      "  for item in category_counts.iteritems():\n",
      "c:\\Users\\Arpita\\AppData\\Local\\Programs\\Python\\Python39\\lib\\site-packages\\sweetviz\\series_analyzer_numeric.py:25: FutureWarning: The 'mad' method is deprecated and will be removed in a future version. To compute the same result, you may do `(df - df.mean()).abs().mean()`.\n",
      "  stats[\"mad\"] = series.mad()\n",
      "c:\\Users\\Arpita\\AppData\\Local\\Programs\\Python\\Python39\\lib\\site-packages\\sweetviz\\series_analyzer_cat.py:28: FutureWarning: iteritems is deprecated and will be removed in a future version. Use .items instead.\n",
      "  for item in category_counts.iteritems():\n",
      "c:\\Users\\Arpita\\AppData\\Local\\Programs\\Python\\Python39\\lib\\site-packages\\sweetviz\\series_analyzer_cat.py:28: FutureWarning: iteritems is deprecated and will be removed in a future version. Use .items instead.\n",
      "  for item in category_counts.iteritems():\n",
      "c:\\Users\\Arpita\\AppData\\Local\\Programs\\Python\\Python39\\lib\\site-packages\\sweetviz\\series_analyzer_cat.py:28: FutureWarning: iteritems is deprecated and will be removed in a future version. Use .items instead.\n",
      "  for item in category_counts.iteritems():\n",
      "c:\\Users\\Arpita\\AppData\\Local\\Programs\\Python\\Python39\\lib\\site-packages\\sweetviz\\series_analyzer_cat.py:28: FutureWarning: iteritems is deprecated and will be removed in a future version. Use .items instead.\n",
      "  for item in category_counts.iteritems():\n",
      "c:\\Users\\Arpita\\AppData\\Local\\Programs\\Python\\Python39\\lib\\site-packages\\sweetviz\\series_analyzer_cat.py:28: FutureWarning: iteritems is deprecated and will be removed in a future version. Use .items instead.\n",
      "  for item in category_counts.iteritems():\n",
      "c:\\Users\\Arpita\\AppData\\Local\\Programs\\Python\\Python39\\lib\\site-packages\\sweetviz\\series_analyzer_cat.py:28: FutureWarning: iteritems is deprecated and will be removed in a future version. Use .items instead.\n",
      "  for item in category_counts.iteritems():\n",
      "c:\\Users\\Arpita\\AppData\\Local\\Programs\\Python\\Python39\\lib\\site-packages\\sweetviz\\series_analyzer_cat.py:28: FutureWarning: iteritems is deprecated and will be removed in a future version. Use .items instead.\n",
      "  for item in category_counts.iteritems():\n",
      "c:\\Users\\Arpita\\AppData\\Local\\Programs\\Python\\Python39\\lib\\site-packages\\sweetviz\\series_analyzer_cat.py:28: FutureWarning: iteritems is deprecated and will be removed in a future version. Use .items instead.\n",
      "  for item in category_counts.iteritems():\n",
      "c:\\Users\\Arpita\\AppData\\Local\\Programs\\Python\\Python39\\lib\\site-packages\\sweetviz\\series_analyzer_numeric.py:25: FutureWarning: The 'mad' method is deprecated and will be removed in a future version. To compute the same result, you may do `(df - df.mean()).abs().mean()`.\n",
      "  stats[\"mad\"] = series.mad()\n"
     ]
    },
    {
     "name": "stdout",
     "output_type": "stream",
     "text": [
      "Report ../results/summary/summary_IA2015.html was generated.\n"
     ]
    },
    {
     "name": "stderr",
     "output_type": "stream",
     "text": [
      "c:\\Users\\Arpita\\AppData\\Local\\Programs\\Python\\Python39\\lib\\site-packages\\sweetviz\\dataframe_report.py:74: FutureWarning: iteritems is deprecated and will be removed in a future version. Use .items instead.\n",
      "  all_source_names = [cur_name for cur_name, cur_series in source_df.iteritems()]\n",
      "c:\\Users\\Arpita\\AppData\\Local\\Programs\\Python\\Python39\\lib\\site-packages\\sweetviz\\dataframe_report.py:109: FutureWarning: iteritems is deprecated and will be removed in a future version. Use .items instead.\n",
      "  filtered_series_names_in_source = [cur_name for cur_name, cur_series in source_df.iteritems()\n"
     ]
    },
    {
     "data": {
      "application/vnd.jupyter.widget-view+json": {
       "model_id": "b8364d2fe6944eb5938747948c514839",
       "version_major": 2,
       "version_minor": 0
      },
      "text/plain": [
       "                                             |          | [  0%]   00:00 -> (? left)"
      ]
     },
     "metadata": {},
     "output_type": "display_data"
    },
    {
     "name": "stderr",
     "output_type": "stream",
     "text": [
      "c:\\Users\\Arpita\\AppData\\Local\\Programs\\Python\\Python39\\lib\\site-packages\\sweetviz\\series_analyzer_cat.py:28: FutureWarning: iteritems is deprecated and will be removed in a future version. Use .items instead.\n",
      "  for item in category_counts.iteritems():\n",
      "c:\\Users\\Arpita\\AppData\\Local\\Programs\\Python\\Python39\\lib\\site-packages\\sweetviz\\series_analyzer_cat.py:28: FutureWarning: iteritems is deprecated and will be removed in a future version. Use .items instead.\n",
      "  for item in category_counts.iteritems():\n",
      "c:\\Users\\Arpita\\AppData\\Local\\Programs\\Python\\Python39\\lib\\site-packages\\sweetviz\\series_analyzer_cat.py:28: FutureWarning: iteritems is deprecated and will be removed in a future version. Use .items instead.\n",
      "  for item in category_counts.iteritems():\n",
      "c:\\Users\\Arpita\\AppData\\Local\\Programs\\Python\\Python39\\lib\\site-packages\\sweetviz\\series_analyzer_cat.py:28: FutureWarning: iteritems is deprecated and will be removed in a future version. Use .items instead.\n",
      "  for item in category_counts.iteritems():\n",
      "c:\\Users\\Arpita\\AppData\\Local\\Programs\\Python\\Python39\\lib\\site-packages\\sweetviz\\series_analyzer_cat.py:28: FutureWarning: iteritems is deprecated and will be removed in a future version. Use .items instead.\n",
      "  for item in category_counts.iteritems():\n",
      "c:\\Users\\Arpita\\AppData\\Local\\Programs\\Python\\Python39\\lib\\site-packages\\sweetviz\\series_analyzer_cat.py:28: FutureWarning: iteritems is deprecated and will be removed in a future version. Use .items instead.\n",
      "  for item in category_counts.iteritems():\n",
      "c:\\Users\\Arpita\\AppData\\Local\\Programs\\Python\\Python39\\lib\\site-packages\\sweetviz\\series_analyzer_cat.py:28: FutureWarning: iteritems is deprecated and will be removed in a future version. Use .items instead.\n",
      "  for item in category_counts.iteritems():\n",
      "c:\\Users\\Arpita\\AppData\\Local\\Programs\\Python\\Python39\\lib\\site-packages\\sweetviz\\series_analyzer_numeric.py:25: FutureWarning: The 'mad' method is deprecated and will be removed in a future version. To compute the same result, you may do `(df - df.mean()).abs().mean()`.\n",
      "  stats[\"mad\"] = series.mad()\n",
      "c:\\Users\\Arpita\\AppData\\Local\\Programs\\Python\\Python39\\lib\\site-packages\\sweetviz\\series_analyzer_cat.py:28: FutureWarning: iteritems is deprecated and will be removed in a future version. Use .items instead.\n",
      "  for item in category_counts.iteritems():\n",
      "c:\\Users\\Arpita\\AppData\\Local\\Programs\\Python\\Python39\\lib\\site-packages\\sweetviz\\series_analyzer_cat.py:28: FutureWarning: iteritems is deprecated and will be removed in a future version. Use .items instead.\n",
      "  for item in category_counts.iteritems():\n",
      "c:\\Users\\Arpita\\AppData\\Local\\Programs\\Python\\Python39\\lib\\site-packages\\sweetviz\\series_analyzer_cat.py:28: FutureWarning: iteritems is deprecated and will be removed in a future version. Use .items instead.\n",
      "  for item in category_counts.iteritems():\n",
      "c:\\Users\\Arpita\\AppData\\Local\\Programs\\Python\\Python39\\lib\\site-packages\\sweetviz\\series_analyzer_cat.py:28: FutureWarning: iteritems is deprecated and will be removed in a future version. Use .items instead.\n",
      "  for item in category_counts.iteritems():\n",
      "c:\\Users\\Arpita\\AppData\\Local\\Programs\\Python\\Python39\\lib\\site-packages\\sweetviz\\series_analyzer_cat.py:28: FutureWarning: iteritems is deprecated and will be removed in a future version. Use .items instead.\n",
      "  for item in category_counts.iteritems():\n",
      "c:\\Users\\Arpita\\AppData\\Local\\Programs\\Python\\Python39\\lib\\site-packages\\sweetviz\\series_analyzer_cat.py:28: FutureWarning: iteritems is deprecated and will be removed in a future version. Use .items instead.\n",
      "  for item in category_counts.iteritems():\n"
     ]
    },
    {
     "name": "stdout",
     "output_type": "stream",
     "text": [
      "Report ../results/summary/summary_IA2006.html was generated.\n"
     ]
    },
    {
     "name": "stderr",
     "output_type": "stream",
     "text": [
      "c:\\Users\\Arpita\\AppData\\Local\\Programs\\Python\\Python39\\lib\\site-packages\\sweetviz\\dataframe_report.py:74: FutureWarning: iteritems is deprecated and will be removed in a future version. Use .items instead.\n",
      "  all_source_names = [cur_name for cur_name, cur_series in source_df.iteritems()]\n",
      "c:\\Users\\Arpita\\AppData\\Local\\Programs\\Python\\Python39\\lib\\site-packages\\sweetviz\\dataframe_report.py:109: FutureWarning: iteritems is deprecated and will be removed in a future version. Use .items instead.\n",
      "  filtered_series_names_in_source = [cur_name for cur_name, cur_series in source_df.iteritems()\n"
     ]
    },
    {
     "data": {
      "application/vnd.jupyter.widget-view+json": {
       "model_id": "0c0b6f83e7a7406e8da1c08d3160a6ed",
       "version_major": 2,
       "version_minor": 0
      },
      "text/plain": [
       "                                             |          | [  0%]   00:00 -> (? left)"
      ]
     },
     "metadata": {},
     "output_type": "display_data"
    },
    {
     "name": "stderr",
     "output_type": "stream",
     "text": [
      "c:\\Users\\Arpita\\AppData\\Local\\Programs\\Python\\Python39\\lib\\site-packages\\sweetviz\\series_analyzer_cat.py:28: FutureWarning: iteritems is deprecated and will be removed in a future version. Use .items instead.\n",
      "  for item in category_counts.iteritems():\n",
      "c:\\Users\\Arpita\\AppData\\Local\\Programs\\Python\\Python39\\lib\\site-packages\\sweetviz\\series_analyzer_cat.py:28: FutureWarning: iteritems is deprecated and will be removed in a future version. Use .items instead.\n",
      "  for item in category_counts.iteritems():\n",
      "c:\\Users\\Arpita\\AppData\\Local\\Programs\\Python\\Python39\\lib\\site-packages\\sweetviz\\series_analyzer_cat.py:28: FutureWarning: iteritems is deprecated and will be removed in a future version. Use .items instead.\n",
      "  for item in category_counts.iteritems():\n",
      "c:\\Users\\Arpita\\AppData\\Local\\Programs\\Python\\Python39\\lib\\site-packages\\sweetviz\\series_analyzer_cat.py:28: FutureWarning: iteritems is deprecated and will be removed in a future version. Use .items instead.\n",
      "  for item in category_counts.iteritems():\n",
      "c:\\Users\\Arpita\\AppData\\Local\\Programs\\Python\\Python39\\lib\\site-packages\\sweetviz\\series_analyzer_cat.py:28: FutureWarning: iteritems is deprecated and will be removed in a future version. Use .items instead.\n",
      "  for item in category_counts.iteritems():\n",
      "c:\\Users\\Arpita\\AppData\\Local\\Programs\\Python\\Python39\\lib\\site-packages\\sweetviz\\series_analyzer_cat.py:28: FutureWarning: iteritems is deprecated and will be removed in a future version. Use .items instead.\n",
      "  for item in category_counts.iteritems():\n",
      "c:\\Users\\Arpita\\AppData\\Local\\Programs\\Python\\Python39\\lib\\site-packages\\sweetviz\\series_analyzer_cat.py:28: FutureWarning: iteritems is deprecated and will be removed in a future version. Use .items instead.\n",
      "  for item in category_counts.iteritems():\n",
      "c:\\Users\\Arpita\\AppData\\Local\\Programs\\Python\\Python39\\lib\\site-packages\\sweetviz\\series_analyzer_numeric.py:25: FutureWarning: The 'mad' method is deprecated and will be removed in a future version. To compute the same result, you may do `(df - df.mean()).abs().mean()`.\n",
      "  stats[\"mad\"] = series.mad()\n",
      "c:\\Users\\Arpita\\AppData\\Local\\Programs\\Python\\Python39\\lib\\site-packages\\sweetviz\\series_analyzer_cat.py:28: FutureWarning: iteritems is deprecated and will be removed in a future version. Use .items instead.\n",
      "  for item in category_counts.iteritems():\n",
      "c:\\Users\\Arpita\\AppData\\Local\\Programs\\Python\\Python39\\lib\\site-packages\\sweetviz\\series_analyzer_cat.py:28: FutureWarning: iteritems is deprecated and will be removed in a future version. Use .items instead.\n",
      "  for item in category_counts.iteritems():\n",
      "c:\\Users\\Arpita\\AppData\\Local\\Programs\\Python\\Python39\\lib\\site-packages\\sweetviz\\series_analyzer_cat.py:28: FutureWarning: iteritems is deprecated and will be removed in a future version. Use .items instead.\n",
      "  for item in category_counts.iteritems():\n",
      "c:\\Users\\Arpita\\AppData\\Local\\Programs\\Python\\Python39\\lib\\site-packages\\sweetviz\\series_analyzer_cat.py:28: FutureWarning: iteritems is deprecated and will be removed in a future version. Use .items instead.\n",
      "  for item in category_counts.iteritems():\n",
      "c:\\Users\\Arpita\\AppData\\Local\\Programs\\Python\\Python39\\lib\\site-packages\\sweetviz\\series_analyzer_cat.py:28: FutureWarning: iteritems is deprecated and will be removed in a future version. Use .items instead.\n",
      "  for item in category_counts.iteritems():\n",
      "c:\\Users\\Arpita\\AppData\\Local\\Programs\\Python\\Python39\\lib\\site-packages\\sweetviz\\series_analyzer_cat.py:28: FutureWarning: iteritems is deprecated and will be removed in a future version. Use .items instead.\n",
      "  for item in category_counts.iteritems():\n",
      "c:\\Users\\Arpita\\AppData\\Local\\Programs\\Python\\Python39\\lib\\site-packages\\sweetviz\\series_analyzer_cat.py:28: FutureWarning: iteritems is deprecated and will be removed in a future version. Use .items instead.\n",
      "  for item in category_counts.iteritems():\n",
      "c:\\Users\\Arpita\\AppData\\Local\\Programs\\Python\\Python39\\lib\\site-packages\\sweetviz\\series_analyzer_cat.py:28: FutureWarning: iteritems is deprecated and will be removed in a future version. Use .items instead.\n",
      "  for item in category_counts.iteritems():\n",
      "c:\\Users\\Arpita\\AppData\\Local\\Programs\\Python\\Python39\\lib\\site-packages\\sweetviz\\series_analyzer_numeric.py:25: FutureWarning: The 'mad' method is deprecated and will be removed in a future version. To compute the same result, you may do `(df - df.mean()).abs().mean()`.\n",
      "  stats[\"mad\"] = series.mad()\n"
     ]
    },
    {
     "name": "stdout",
     "output_type": "stream",
     "text": [
      "Report ../results/summary/summary_ML2018.html was generated.\n"
     ]
    },
    {
     "name": "stderr",
     "output_type": "stream",
     "text": [
      "c:\\Users\\Arpita\\AppData\\Local\\Programs\\Python\\Python39\\lib\\site-packages\\sweetviz\\dataframe_report.py:74: FutureWarning: iteritems is deprecated and will be removed in a future version. Use .items instead.\n",
      "  all_source_names = [cur_name for cur_name, cur_series in source_df.iteritems()]\n",
      "c:\\Users\\Arpita\\AppData\\Local\\Programs\\Python\\Python39\\lib\\site-packages\\sweetviz\\dataframe_report.py:109: FutureWarning: iteritems is deprecated and will be removed in a future version. Use .items instead.\n",
      "  filtered_series_names_in_source = [cur_name for cur_name, cur_series in source_df.iteritems()\n"
     ]
    },
    {
     "data": {
      "application/vnd.jupyter.widget-view+json": {
       "model_id": "dfbfb0e442fe4dd892f3886512e5b70b",
       "version_major": 2,
       "version_minor": 0
      },
      "text/plain": [
       "                                             |          | [  0%]   00:00 -> (? left)"
      ]
     },
     "metadata": {},
     "output_type": "display_data"
    },
    {
     "name": "stderr",
     "output_type": "stream",
     "text": [
      "c:\\Users\\Arpita\\AppData\\Local\\Programs\\Python\\Python39\\lib\\site-packages\\sweetviz\\series_analyzer_cat.py:28: FutureWarning: iteritems is deprecated and will be removed in a future version. Use .items instead.\n",
      "  for item in category_counts.iteritems():\n",
      "c:\\Users\\Arpita\\AppData\\Local\\Programs\\Python\\Python39\\lib\\site-packages\\sweetviz\\series_analyzer_cat.py:28: FutureWarning: iteritems is deprecated and will be removed in a future version. Use .items instead.\n",
      "  for item in category_counts.iteritems():\n",
      "c:\\Users\\Arpita\\AppData\\Local\\Programs\\Python\\Python39\\lib\\site-packages\\sweetviz\\series_analyzer_cat.py:28: FutureWarning: iteritems is deprecated and will be removed in a future version. Use .items instead.\n",
      "  for item in category_counts.iteritems():\n",
      "c:\\Users\\Arpita\\AppData\\Local\\Programs\\Python\\Python39\\lib\\site-packages\\sweetviz\\series_analyzer_cat.py:28: FutureWarning: iteritems is deprecated and will be removed in a future version. Use .items instead.\n",
      "  for item in category_counts.iteritems():\n",
      "c:\\Users\\Arpita\\AppData\\Local\\Programs\\Python\\Python39\\lib\\site-packages\\sweetviz\\series_analyzer_cat.py:28: FutureWarning: iteritems is deprecated and will be removed in a future version. Use .items instead.\n",
      "  for item in category_counts.iteritems():\n",
      "c:\\Users\\Arpita\\AppData\\Local\\Programs\\Python\\Python39\\lib\\site-packages\\sweetviz\\series_analyzer_cat.py:28: FutureWarning: iteritems is deprecated and will be removed in a future version. Use .items instead.\n",
      "  for item in category_counts.iteritems():\n",
      "c:\\Users\\Arpita\\AppData\\Local\\Programs\\Python\\Python39\\lib\\site-packages\\sweetviz\\series_analyzer_cat.py:28: FutureWarning: iteritems is deprecated and will be removed in a future version. Use .items instead.\n",
      "  for item in category_counts.iteritems():\n",
      "c:\\Users\\Arpita\\AppData\\Local\\Programs\\Python\\Python39\\lib\\site-packages\\sweetviz\\series_analyzer_numeric.py:25: FutureWarning: The 'mad' method is deprecated and will be removed in a future version. To compute the same result, you may do `(df - df.mean()).abs().mean()`.\n",
      "  stats[\"mad\"] = series.mad()\n",
      "c:\\Users\\Arpita\\AppData\\Local\\Programs\\Python\\Python39\\lib\\site-packages\\sweetviz\\series_analyzer_cat.py:28: FutureWarning: iteritems is deprecated and will be removed in a future version. Use .items instead.\n",
      "  for item in category_counts.iteritems():\n",
      "c:\\Users\\Arpita\\AppData\\Local\\Programs\\Python\\Python39\\lib\\site-packages\\sweetviz\\series_analyzer_cat.py:28: FutureWarning: iteritems is deprecated and will be removed in a future version. Use .items instead.\n",
      "  for item in category_counts.iteritems():\n",
      "c:\\Users\\Arpita\\AppData\\Local\\Programs\\Python\\Python39\\lib\\site-packages\\sweetviz\\series_analyzer_cat.py:28: FutureWarning: iteritems is deprecated and will be removed in a future version. Use .items instead.\n",
      "  for item in category_counts.iteritems():\n",
      "c:\\Users\\Arpita\\AppData\\Local\\Programs\\Python\\Python39\\lib\\site-packages\\sweetviz\\series_analyzer_cat.py:28: FutureWarning: iteritems is deprecated and will be removed in a future version. Use .items instead.\n",
      "  for item in category_counts.iteritems():\n",
      "c:\\Users\\Arpita\\AppData\\Local\\Programs\\Python\\Python39\\lib\\site-packages\\sweetviz\\series_analyzer_cat.py:28: FutureWarning: iteritems is deprecated and will be removed in a future version. Use .items instead.\n",
      "  for item in category_counts.iteritems():\n",
      "c:\\Users\\Arpita\\AppData\\Local\\Programs\\Python\\Python39\\lib\\site-packages\\sweetviz\\series_analyzer_cat.py:28: FutureWarning: iteritems is deprecated and will be removed in a future version. Use .items instead.\n",
      "  for item in category_counts.iteritems():\n"
     ]
    },
    {
     "name": "stdout",
     "output_type": "stream",
     "text": [
      "Report ../results/summary/summary_ML2006.html was generated.\n"
     ]
    },
    {
     "name": "stderr",
     "output_type": "stream",
     "text": [
      "c:\\Users\\Arpita\\AppData\\Local\\Programs\\Python\\Python39\\lib\\site-packages\\sweetviz\\dataframe_report.py:74: FutureWarning: iteritems is deprecated and will be removed in a future version. Use .items instead.\n",
      "  all_source_names = [cur_name for cur_name, cur_series in source_df.iteritems()]\n",
      "c:\\Users\\Arpita\\AppData\\Local\\Programs\\Python\\Python39\\lib\\site-packages\\sweetviz\\dataframe_report.py:109: FutureWarning: iteritems is deprecated and will be removed in a future version. Use .items instead.\n",
      "  filtered_series_names_in_source = [cur_name for cur_name, cur_series in source_df.iteritems()\n"
     ]
    },
    {
     "data": {
      "application/vnd.jupyter.widget-view+json": {
       "model_id": "f61ebb507d3248e4818b1fad145bf43c",
       "version_major": 2,
       "version_minor": 0
      },
      "text/plain": [
       "                                             |          | [  0%]   00:00 -> (? left)"
      ]
     },
     "metadata": {},
     "output_type": "display_data"
    },
    {
     "name": "stderr",
     "output_type": "stream",
     "text": [
      "c:\\Users\\Arpita\\AppData\\Local\\Programs\\Python\\Python39\\lib\\site-packages\\sweetviz\\series_analyzer_cat.py:28: FutureWarning: iteritems is deprecated and will be removed in a future version. Use .items instead.\n",
      "  for item in category_counts.iteritems():\n",
      "c:\\Users\\Arpita\\AppData\\Local\\Programs\\Python\\Python39\\lib\\site-packages\\sweetviz\\series_analyzer_cat.py:28: FutureWarning: iteritems is deprecated and will be removed in a future version. Use .items instead.\n",
      "  for item in category_counts.iteritems():\n",
      "c:\\Users\\Arpita\\AppData\\Local\\Programs\\Python\\Python39\\lib\\site-packages\\sweetviz\\series_analyzer_cat.py:28: FutureWarning: iteritems is deprecated and will be removed in a future version. Use .items instead.\n",
      "  for item in category_counts.iteritems():\n",
      "c:\\Users\\Arpita\\AppData\\Local\\Programs\\Python\\Python39\\lib\\site-packages\\sweetviz\\series_analyzer_cat.py:28: FutureWarning: iteritems is deprecated and will be removed in a future version. Use .items instead.\n",
      "  for item in category_counts.iteritems():\n",
      "c:\\Users\\Arpita\\AppData\\Local\\Programs\\Python\\Python39\\lib\\site-packages\\sweetviz\\series_analyzer_cat.py:28: FutureWarning: iteritems is deprecated and will be removed in a future version. Use .items instead.\n",
      "  for item in category_counts.iteritems():\n",
      "c:\\Users\\Arpita\\AppData\\Local\\Programs\\Python\\Python39\\lib\\site-packages\\sweetviz\\series_analyzer_cat.py:28: FutureWarning: iteritems is deprecated and will be removed in a future version. Use .items instead.\n",
      "  for item in category_counts.iteritems():\n",
      "c:\\Users\\Arpita\\AppData\\Local\\Programs\\Python\\Python39\\lib\\site-packages\\sweetviz\\series_analyzer_cat.py:28: FutureWarning: iteritems is deprecated and will be removed in a future version. Use .items instead.\n",
      "  for item in category_counts.iteritems():\n",
      "c:\\Users\\Arpita\\AppData\\Local\\Programs\\Python\\Python39\\lib\\site-packages\\sweetviz\\series_analyzer_numeric.py:25: FutureWarning: The 'mad' method is deprecated and will be removed in a future version. To compute the same result, you may do `(df - df.mean()).abs().mean()`.\n",
      "  stats[\"mad\"] = series.mad()\n",
      "c:\\Users\\Arpita\\AppData\\Local\\Programs\\Python\\Python39\\lib\\site-packages\\sweetviz\\series_analyzer_cat.py:28: FutureWarning: iteritems is deprecated and will be removed in a future version. Use .items instead.\n",
      "  for item in category_counts.iteritems():\n",
      "c:\\Users\\Arpita\\AppData\\Local\\Programs\\Python\\Python39\\lib\\site-packages\\sweetviz\\series_analyzer_cat.py:28: FutureWarning: iteritems is deprecated and will be removed in a future version. Use .items instead.\n",
      "  for item in category_counts.iteritems():\n",
      "c:\\Users\\Arpita\\AppData\\Local\\Programs\\Python\\Python39\\lib\\site-packages\\sweetviz\\series_analyzer_cat.py:28: FutureWarning: iteritems is deprecated and will be removed in a future version. Use .items instead.\n",
      "  for item in category_counts.iteritems():\n",
      "c:\\Users\\Arpita\\AppData\\Local\\Programs\\Python\\Python39\\lib\\site-packages\\sweetviz\\series_analyzer_cat.py:28: FutureWarning: iteritems is deprecated and will be removed in a future version. Use .items instead.\n",
      "  for item in category_counts.iteritems():\n",
      "c:\\Users\\Arpita\\AppData\\Local\\Programs\\Python\\Python39\\lib\\site-packages\\sweetviz\\series_analyzer_cat.py:28: FutureWarning: iteritems is deprecated and will be removed in a future version. Use .items instead.\n",
      "  for item in category_counts.iteritems():\n",
      "c:\\Users\\Arpita\\AppData\\Local\\Programs\\Python\\Python39\\lib\\site-packages\\sweetviz\\series_analyzer_cat.py:28: FutureWarning: iteritems is deprecated and will be removed in a future version. Use .items instead.\n",
      "  for item in category_counts.iteritems():\n",
      "c:\\Users\\Arpita\\AppData\\Local\\Programs\\Python\\Python39\\lib\\site-packages\\sweetviz\\series_analyzer_cat.py:28: FutureWarning: iteritems is deprecated and will be removed in a future version. Use .items instead.\n",
      "  for item in category_counts.iteritems():\n",
      "c:\\Users\\Arpita\\AppData\\Local\\Programs\\Python\\Python39\\lib\\site-packages\\sweetviz\\series_analyzer_cat.py:28: FutureWarning: iteritems is deprecated and will be removed in a future version. Use .items instead.\n",
      "  for item in category_counts.iteritems():\n",
      "c:\\Users\\Arpita\\AppData\\Local\\Programs\\Python\\Python39\\lib\\site-packages\\sweetviz\\series_analyzer_numeric.py:25: FutureWarning: The 'mad' method is deprecated and will be removed in a future version. To compute the same result, you may do `(df - df.mean()).abs().mean()`.\n",
      "  stats[\"mad\"] = series.mad()\n"
     ]
    },
    {
     "name": "stdout",
     "output_type": "stream",
     "text": [
      "Report ../results/summary/summary_NG2018.html was generated.\n"
     ]
    },
    {
     "name": "stderr",
     "output_type": "stream",
     "text": [
      "c:\\Users\\Arpita\\AppData\\Local\\Programs\\Python\\Python39\\lib\\site-packages\\sweetviz\\dataframe_report.py:74: FutureWarning: iteritems is deprecated and will be removed in a future version. Use .items instead.\n",
      "  all_source_names = [cur_name for cur_name, cur_series in source_df.iteritems()]\n",
      "c:\\Users\\Arpita\\AppData\\Local\\Programs\\Python\\Python39\\lib\\site-packages\\sweetviz\\dataframe_report.py:109: FutureWarning: iteritems is deprecated and will be removed in a future version. Use .items instead.\n",
      "  filtered_series_names_in_source = [cur_name for cur_name, cur_series in source_df.iteritems()\n"
     ]
    },
    {
     "data": {
      "application/vnd.jupyter.widget-view+json": {
       "model_id": "029712bc79274ca8b88bb668d95c2b43",
       "version_major": 2,
       "version_minor": 0
      },
      "text/plain": [
       "                                             |          | [  0%]   00:00 -> (? left)"
      ]
     },
     "metadata": {},
     "output_type": "display_data"
    },
    {
     "name": "stderr",
     "output_type": "stream",
     "text": [
      "c:\\Users\\Arpita\\AppData\\Local\\Programs\\Python\\Python39\\lib\\site-packages\\sweetviz\\series_analyzer_cat.py:28: FutureWarning: iteritems is deprecated and will be removed in a future version. Use .items instead.\n",
      "  for item in category_counts.iteritems():\n",
      "c:\\Users\\Arpita\\AppData\\Local\\Programs\\Python\\Python39\\lib\\site-packages\\sweetviz\\series_analyzer_cat.py:28: FutureWarning: iteritems is deprecated and will be removed in a future version. Use .items instead.\n",
      "  for item in category_counts.iteritems():\n",
      "c:\\Users\\Arpita\\AppData\\Local\\Programs\\Python\\Python39\\lib\\site-packages\\sweetviz\\series_analyzer_cat.py:28: FutureWarning: iteritems is deprecated and will be removed in a future version. Use .items instead.\n",
      "  for item in category_counts.iteritems():\n",
      "c:\\Users\\Arpita\\AppData\\Local\\Programs\\Python\\Python39\\lib\\site-packages\\sweetviz\\series_analyzer_cat.py:28: FutureWarning: iteritems is deprecated and will be removed in a future version. Use .items instead.\n",
      "  for item in category_counts.iteritems():\n",
      "c:\\Users\\Arpita\\AppData\\Local\\Programs\\Python\\Python39\\lib\\site-packages\\sweetviz\\series_analyzer_cat.py:28: FutureWarning: iteritems is deprecated and will be removed in a future version. Use .items instead.\n",
      "  for item in category_counts.iteritems():\n",
      "c:\\Users\\Arpita\\AppData\\Local\\Programs\\Python\\Python39\\lib\\site-packages\\sweetviz\\series_analyzer_cat.py:28: FutureWarning: iteritems is deprecated and will be removed in a future version. Use .items instead.\n",
      "  for item in category_counts.iteritems():\n",
      "c:\\Users\\Arpita\\AppData\\Local\\Programs\\Python\\Python39\\lib\\site-packages\\sweetviz\\series_analyzer_cat.py:28: FutureWarning: iteritems is deprecated and will be removed in a future version. Use .items instead.\n",
      "  for item in category_counts.iteritems():\n",
      "c:\\Users\\Arpita\\AppData\\Local\\Programs\\Python\\Python39\\lib\\site-packages\\sweetviz\\series_analyzer_numeric.py:25: FutureWarning: The 'mad' method is deprecated and will be removed in a future version. To compute the same result, you may do `(df - df.mean()).abs().mean()`.\n",
      "  stats[\"mad\"] = series.mad()\n",
      "c:\\Users\\Arpita\\AppData\\Local\\Programs\\Python\\Python39\\lib\\site-packages\\sweetviz\\series_analyzer_cat.py:28: FutureWarning: iteritems is deprecated and will be removed in a future version. Use .items instead.\n",
      "  for item in category_counts.iteritems():\n",
      "c:\\Users\\Arpita\\AppData\\Local\\Programs\\Python\\Python39\\lib\\site-packages\\sweetviz\\series_analyzer_cat.py:28: FutureWarning: iteritems is deprecated and will be removed in a future version. Use .items instead.\n",
      "  for item in category_counts.iteritems():\n",
      "c:\\Users\\Arpita\\AppData\\Local\\Programs\\Python\\Python39\\lib\\site-packages\\sweetviz\\series_analyzer_cat.py:28: FutureWarning: iteritems is deprecated and will be removed in a future version. Use .items instead.\n",
      "  for item in category_counts.iteritems():\n",
      "c:\\Users\\Arpita\\AppData\\Local\\Programs\\Python\\Python39\\lib\\site-packages\\sweetviz\\series_analyzer_cat.py:28: FutureWarning: iteritems is deprecated and will be removed in a future version. Use .items instead.\n",
      "  for item in category_counts.iteritems():\n",
      "c:\\Users\\Arpita\\AppData\\Local\\Programs\\Python\\Python39\\lib\\site-packages\\sweetviz\\series_analyzer_cat.py:28: FutureWarning: iteritems is deprecated and will be removed in a future version. Use .items instead.\n",
      "  for item in category_counts.iteritems():\n",
      "c:\\Users\\Arpita\\AppData\\Local\\Programs\\Python\\Python39\\lib\\site-packages\\sweetviz\\series_analyzer_cat.py:28: FutureWarning: iteritems is deprecated and will be removed in a future version. Use .items instead.\n",
      "  for item in category_counts.iteritems():\n"
     ]
    },
    {
     "name": "stdout",
     "output_type": "stream",
     "text": [
      "Report ../results/summary/summary_NG2008.html was generated.\n"
     ]
    }
   ],
   "source": [
    "#Correlation matrix [No need to run this]\n",
    "#Summary statistics with graphs for each country\n",
    "import sweetviz as sv\n",
    "import IPython\n",
    "for country in countries:\n",
    "    df = get_clean_dataset(country)\n",
    "    report = sv.analyze(df)\n",
    "    report.show_html('../results/summary/summary_'+country+'.html', open_browser=False)\n",
    "\n",
    "    IPython.display.HTML('../results/summary/summary_'+country+'.html')"
   ]
  }
 ],
 "metadata": {
  "kernelspec": {
   "display_name": "Python 3.9.0 64-bit",
   "language": "python",
   "name": "python3"
  },
  "language_info": {
   "codemirror_mode": {
    "name": "ipython",
    "version": 3
   },
   "file_extension": ".py",
   "mimetype": "text/x-python",
   "name": "python",
   "nbconvert_exporter": "python",
   "pygments_lexer": "ipython3",
   "version": "3.9.0 (tags/v3.9.0:9cf6752, Oct  5 2020, 15:34:40) [MSC v.1927 64 bit (AMD64)]"
  },
  "orig_nbformat": 4,
  "vscode": {
   "interpreter": {
    "hash": "e3d921727fd142f159995321f554abb728fc3b584f7afa5859167818ca059b72"
   }
  }
 },
 "nbformat": 4,
 "nbformat_minor": 2
}
